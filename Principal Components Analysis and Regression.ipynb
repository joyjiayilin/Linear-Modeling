{
 "cells": [
  {
   "cell_type": "markdown",
   "metadata": {},
   "source": [
    "## Computational Homework 9: Principal Components Analysis and Regression\n",
    "\n",
    "In this assignment, we will work through an example of performing principal components analysis in Python, in particular focusing on the case when the data matrix $X$ has columns which are nearly linearly dependent. We will then introduce an application of PCA to regression, called principal components regression (PCR), which can be a useful approach the $X$ is approximately low-rank (i.e., in the presence of multicollinearity). "
   ]
  },
  {
   "cell_type": "markdown",
   "metadata": {},
   "source": [
    "### Part 1: PCA\n",
    "\n",
    "For the sake of this assignment, we will use a simulated dataset which is generated in the following cell."
   ]
  },
  {
   "cell_type": "code",
   "execution_count": 1,
   "metadata": {},
   "outputs": [],
   "source": [
    "import numpy as np \n",
    "np.random.seed(42)\n",
    "\n",
    "n, p = 100, 30\n",
    "U = np.linalg.qr(np.random.normal(size=(n,p)))[0] \n",
    "D = np.diag([10*np.exp(-0.2*t) for t in range(1,p+1)]) \n",
    "X = U@D"
   ]
  },
  {
   "cell_type": "markdown",
   "metadata": {},
   "source": [
    "**Problem 1.** (Prepping the data for PCA). Using the data matrix $X$ defined in the cell above, perform the following:\n",
    "\n",
    "1. Construct the centered data matrix $X_c$, whose columns have mean zero (note, you should be able to use the centering matrix $H = I - \\frac{1}{n}\\mathbb{1}\\mathbb{1}^\\top$ to do this easily).\n",
    "2. Using $X_c$ defined above, define compute the sample covariance matrix $C = \\frac{1}{n}X_c^\\top X_c$."
   ]
  },
  {
   "cell_type": "code",
   "execution_count": 4,
   "metadata": {},
   "outputs": [],
   "source": [
    "#1\n",
    "H = np.identity(n) - 1/n * np.dot(np.ones((n,1)), np.ones((n,1)).T)\n",
    "Xc = np.dot(H, X)\n",
    "\n",
    "#2\n",
    "C = 1/n * np.dot(Xc.T, Xc)"
   ]
  },
  {
   "cell_type": "markdown",
   "metadata": {},
   "source": [
    "**Problem 2.** (Performing PCA). Now that you've computed the covariance matrix $C$, we can perform PCA by computing its eigenvalue decomposition. To do this using numpy, you can use the function `np.linalg.eigh` -- this will return two arrays, the first is a $p\\times 1$ array containing the eigenvalues, and the second is a $p\\times p$ array containing the eigenvectors. Make a scatterplot of the eigenvalues, sorted from largest to smallest (this usually called a \"scree plot\"). What do you notice about this scatterplot? What does it say about the dimensionality of the data? Is there any indication of colinearity in the columns of $X$?"
   ]
  },
  {
   "cell_type": "code",
   "execution_count": 10,
   "metadata": {},
   "outputs": [
    {
     "data": {
      "image/png": "[encoded data removed]",
      "text/plain": [
       "<Figure size 432x288 with 1 Axes>"
      ]
     },
     "metadata": {
      "needs_background": "light"
     },
     "output_type": "display_data"
    }
   ],
   "source": [
    "import matplotlib.pyplot as plt\n",
    "\n",
    "lambdas = np.linalg.eigh(n*C)[0]\n",
    "lambdas_sorted = np.sort(lambdas)[::-1]\n",
    "\n",
    "plt.scatter(np.linspace(1,p,len(lambdas)), lambdas_sorted)\n",
    "plt.ylabel('descending eigenvalues')\n",
    "plt.show()\n",
    "\n",
    "# This scatterplot has a decreasing trend, first sharp and then at a lower rate, mostly remaining constant around 0.\n",
    "# It shows that dimension reduction is possible with the larger eigenvalues. \n",
    "# The 0-constant eigenvalues indicates multicollinearity in the columns of X."
   ]
  },
  {
   "cell_type": "markdown",
   "metadata": {},
   "source": [
    "**Problem 3.** (Evaluating PCA, choosing the number of components). Next, we will create two plots which will help us evaluate how many components we might want to keep for an analysis. To do this, we will a plot of the cumulative proportion of variance explained by the first $j$ components. To do this, compute \n",
    "\n",
    "$$\n",
    "p_j = \\frac{\\sum_{k=1}^j \\lambda_k}{\\sum_{l=1}^p \\lambda_l}\n",
    "$$\n",
    "\n",
    "where $\\lambda_k$ is the $k^{th}$ eigenvalue (in sorted order, so $\\lambda_1 > \\lambda_2 > \\cdots > \\lambda_p$). Using this plot, determine the minimum number of components needed to explain $90\\%$ of the variance in the original data."
   ]
  },
  {
   "cell_type": "code",
   "execution_count": 18,
   "metadata": {},
   "outputs": [
    {
     "data": {
      "image/png": "[encoded data removed]",
      "text/plain": [
       "<Figure size 432x288 with 1 Axes>"
      ]
     },
     "metadata": {
      "needs_background": "light"
     },
     "output_type": "display_data"
    },
    {
     "name": "stdout",
     "output_type": "stream",
     "text": [
      "6  is the minimum number of components needed to explain 90% of the variance in the original data.\n"
     ]
    }
   ],
   "source": [
    "pjs = []\n",
    "\n",
    "for j in range(p):\n",
    "    pj = np.sum(lambdas_sorted[0:(j+1)]) / np.sum(lambdas_sorted)\n",
    "    pjs.append(pj)\n",
    "\n",
    "plt.scatter(np.linspace(1,p,len(pjs)), pjs)\n",
    "plt.ylabel('pj')\n",
    "plt.show()\n",
    "\n",
    "component_90_var = [idx for idx, val in enumerate(pjs) if val >= 0.9]\n",
    "print(np.min(component_90_var) + 1,' is the minimum number of components needed to explain 90% of the variance in the original data.')\n"
   ]
  },
  {
   "cell_type": "markdown",
   "metadata": {},
   "source": [
    "### Part 2: Principal components regression\n",
    "\n",
    "Previously in this class, we've discussed what can happen when we have some features which are either exactly or very close to being linear combinations of each other. When this happens, we sometimes say that there is _multicolinearity_ present in the data (though this term is usually loosely defined). We've also seen that in these situations, the usual least squares estimator $\\hat{\\beta} = (X^\\top X)^{-1}X^\\top y$ is unstable, because the matrix $(X^\\top X)^{-1}$ either doesn't exist, or contains numerically very large values that result in inflated variances of the coefficients.\n",
    "\n",
    "So far, we've discussed a few ways of dealing with this problem via regularization (i.e. Ridge regression and LASSO). Here, we show that principal components analysis offers another solution. For this, we will continue with the data matrix $X$ we defined above, and also create a vector of responses."
   ]
  },
  {
   "cell_type": "code",
   "execution_count": 19,
   "metadata": {},
   "outputs": [],
   "source": [
    "beta_star = np.random.normal(size=p)\n",
    "y = np.dot(X, beta_star) + 0.5*np.random.normal(size=n)"
   ]
  },
  {
   "cell_type": "markdown",
   "metadata": {},
   "source": [
    "**Problem 1.** (Performing PCR). Principal components analysis works as follows. Recall that given the eigenvalue decomposition $C = U\\Lambda U^\\top$ of the covariance matrix, we can comptue the $j^{th}$ principal component by projecting $X$ onto the $j^{th}$ eigenvector (i.e. the $j^{th}$ column of $U$):\n",
    "\n",
    "$$\n",
    "z_j = X u_j \\in \\mathbb{R}^n. \n",
    "$$\n",
    "\n",
    "In principal components regression, we first select $k\\leq p$ of the principal components and forming the $n\\times k$ data matrix \n",
    "\n",
    "$$\n",
    "Z_{k} = \\begin{bmatrix} | & | & & |\\\\ z_1 & z_2 & \\cdots & z_k\\\\ | & | & & |\\end{bmatrix} \\in \\mathbb{R}^{n\\times k}\n",
    "$$\n",
    "\n",
    "and performing least squares using this data matrix instead to get the coefficients \n",
    "\n",
    "$$\n",
    "\\hat{\\beta}_{PCR}(k) = (Z_{k}^\\top Z_{k})^{-1}Z_{k}^\\top y \\in \\mathbb{R}^k. \n",
    "$$\n",
    "\n",
    "Perform PCR using the value of $k$ determined in Problem 3 of Part 1 in this assignment (i.e. the $k$ which describes $90\\%$ of the variance in the data)."
   ]
  },
  {
   "cell_type": "code",
   "execution_count": 26,
   "metadata": {},
   "outputs": [
    {
     "data": {
      "text/plain": [
       "array([ 1.92550276, -0.93780114, -0.29726859,  1.91338475, -0.54479689,\n",
       "       -1.49289086])"
      ]
     },
     "execution_count": 26,
     "metadata": {},
     "output_type": "execute_result"
    }
   ],
   "source": [
    "k = 6\n",
    "\n",
    "ks = range(k)\n",
    "Zk = np.empty(shape = (n,1))\n",
    "U = np.linalg.eigh(n*C)[1]\n",
    "for j in ks:\n",
    "    miu_j = U[:,-(j+1)].reshape(-1,1)\n",
    "    zj = np.dot(X, miu_j)\n",
    "    Zk = np.hstack([Zk, zj])\n",
    "\n",
    "Zk = Zk[:, 1:(k+1)]\n",
    "beta_pcr = np.dot(np.linalg.inv(np.dot(Zk.T, Zk)), np.dot(Zk.T, y))\n",
    "beta_pcr"
   ]
  },
  {
   "cell_type": "markdown",
   "metadata": {},
   "source": [
    "**Problem 2.** (Selecting the number of components to keep). One way to select the number of components that we should use in PCR is by doing essentially what we just did in the previous part, i.e. plot the cumulative proportion of variance, and select a value of $k$ that seems to capture a sufficiently large proportion of the variance in the data. However, we can also use cross-validation to do this.\n",
    "\n",
    "For $k \\in \\{1,2,3,\\dots,30\\}$, perform 5-fold cross validation with PCR and plot the average out-of-sample MSE from this as a function of $k$ (see Homework 6 if you need a refresher on cross validation). What value of $k$ appears best here? Referring back to the cumulative proportion of variance plot from Part 1, what proportion of variance in the data is accounted for at this value?\n",
    "\n",
    "_Note:_ For this problem, you should compute the principal components using only the data in the training set for each fold, i.e. recompute an eigenvalue decomposition for the training data at each step."
   ]
  },
  {
   "cell_type": "code",
   "execution_count": 45,
   "metadata": {},
   "outputs": [
    {
     "data": {
      "image/png": "[encoded data removed]",
      "text/plain": [
       "<Figure size 432x288 with 1 Axes>"
      ]
     },
     "metadata": {
      "needs_background": "light"
     },
     "output_type": "display_data"
    },
    {
     "name": "stdout",
     "output_type": "stream",
     "text": [
      "k that has the smallest error:  19\n",
      "MSE at the best k: 5.301731542115525\n",
      "99.95076017655632 % of variance in the data is accounted for at this value.\n"
     ]
    }
   ],
   "source": [
    "def five_fold_split(n=100):\n",
    "    ix = range(n)\n",
    "    test_ix = np.array_split(ix, 5)\n",
    "    train_ix = [[j for j in ix if j not in tix] for tix in test_ix]\n",
    "    return train_ix, test_ix\n",
    "\n",
    "train_ix, test_ix = five_fold_split(n = X.shape[0])\n",
    "\n",
    "MSE_means = []\n",
    "ks = list(range(1,31))\n",
    "for k in ks:\n",
    "    MSE = []\n",
    "    for tr_ix, te_ix in zip(train_ix, test_ix):\n",
    "        X_train_curr, X_test_curr = X[tr_ix], X[te_ix]\n",
    "        y_train_curr, y_test_curr = y[tr_ix], y[te_ix]\n",
    "        n_train_curr = X_train_curr.shape[0]\n",
    "        n_test_curr = X_test_curr.shape[0]\n",
    "        H_train_curr = np.identity(n_train_curr) - 1/n_train_curr * np.dot(np.ones((n_train_curr,1)), np.ones((n_train_curr,1)).T)\n",
    "        Xc_train_curr = np.dot(H_train_curr, X_train_curr)\n",
    "        U = np.linalg.eigh(np.dot(Xc_train_curr.T, Xc_train_curr))[1]\n",
    "        Zk_train_curr = np.empty(shape = (n_train_curr,1))\n",
    "        Zk_test_curr = np.empty(shape = (n_test_curr,1))\n",
    "        for j in range(k):\n",
    "            miu_j_train_curr = U[:,-(j+1)].reshape(-1,1)\n",
    "            zj_train_curr = np.dot(X_train_curr, miu_j_train_curr)\n",
    "            Zk_train_curr = np.hstack([Zk_train_curr, zj_train_curr])\n",
    "            miu_j_test_curr = U[:,-(j+1)].reshape(-1,1)\n",
    "            zj_test_curr = np.dot(X_test_curr, miu_j_test_curr)\n",
    "            Zk_test_curr = np.hstack([Zk_test_curr, zj_test_curr])\n",
    "        Zk_train_curr = Zk_train_curr[:, 1:(k+1)]\n",
    "        Zk_test_curr = Zk_test_curr[:, 1:(k+1)]\n",
    "        beta = np.dot(np.linalg.inv(np.dot(Zk_train_curr.T, Zk_train_curr)), np.dot(Zk_train_curr.T, y_train_curr))\n",
    "        yhat = np.dot(Zk_test_curr, beta)\n",
    "        MSE.append(np.sum((y_test_curr - yhat) ** 2))\n",
    "    MSE_means.append(np.mean(MSE))\n",
    "\n",
    "plt.scatter(np.linspace(1,p,len(MSE_means)), MSE_means)\n",
    "plt.ylabel('MSE means')\n",
    "plt.show()\n",
    "\n",
    "k_best = ks[MSE_means.index(min(MSE_means))]\n",
    "\n",
    "print(\"k that has the smallest error: \", k_best)\n",
    "print('MSE at the best k:', min(MSE_means))\n",
    "print(pjs[k_best - 1]*100, '% of variance in the data is accounted for at this value.')\n"
   ]
  },
  {
   "cell_type": "markdown",
   "metadata": {},
   "source": [
    "**Problem 3.** (Comparing to Ridge regression). As we mentioned, an PCR can be considered as an alternative to Ridge regression when the data matrix $X$ is poorly conditioned. To compare the performance of PCR vs Ridge regression, perform the same 5-fold cross validation as in the previous problem, but instead fitting Ridge regression models across as range of $\\lambda$ values. At the best value of $\\lambda$, which model performs better, PCR or Ridge?"
   ]
  },
  {
   "cell_type": "code",
   "execution_count": 46,
   "metadata": {},
   "outputs": [
    {
     "data": {
      "image/png": "[encoded data removed]",
      "text/plain": [
       "<Figure size 432x288 with 1 Axes>"
      ]
     },
     "metadata": {
      "needs_background": "light"
     },
     "output_type": "display_data"
    },
    {
     "name": "stdout",
     "output_type": "stream",
     "text": [
      "lambda that has the smallest error:  0.15123975969049577\n",
      "MSE at the best lambda: 5.19271791335497\n"
     ]
    }
   ],
   "source": [
    "def fit_RR(X, y, lamb):\n",
    "    return np.dot(np.linalg.inv(X.T@X + lamb*np.eye(X.shape[1])), np.dot(X.T, y))\n",
    "\n",
    "lamb_range = np.exp(np.linspace(-3,7,10))\n",
    "\n",
    "MSE_means = []\n",
    "for lamb in lamb_range:\n",
    "    MSE = []\n",
    "    train_ix, test_ix = five_fold_split(n = X.shape[0])\n",
    "    for tr_ix, te_ix in zip(train_ix, test_ix):\n",
    "        X_train_curr, X_test_curr = X[tr_ix], X[te_ix]\n",
    "        y_train_curr, y_test_curr = y[tr_ix], y[te_ix]\n",
    "        beta = fit_RR(X_train_curr, y_train_curr, lamb)\n",
    "        yhat = np.dot(X_test_curr, beta)\n",
    "        MSE.append(np.sum((y_test_curr - yhat) ** 2))\n",
    "    MSE_means.append(np.mean(MSE))\n",
    "\n",
    "plt.plot(lamb_range, MSE_means)\n",
    "plt.xlabel(\"Lambda\", fontsize=12)\n",
    "plt.ylabel(\"Error\", fontsize=12)\n",
    "plt.xscale(\"log\")\n",
    "plt.show()\n",
    "\n",
    "best_lamb = lamb_range[MSE_means.index(min(MSE_means))]\n",
    "print(\"lambda that has the smallest error: \", best_lamb)\n",
    "print('MSE at the best lambda:', min(MSE_means))\n",
    "\n",
    "#At the best value of λ, Ridge performs better with MSE smaller than the MSE at best k in PCR.\n",
    "    "
   ]
  }
 ],
 "metadata": {
  "kernelspec": {
   "display_name": "Python 3 (ipykernel)",
   "language": "python",
   "name": "python3"
  },
  "language_info": {
   "codemirror_mode": {
    "name": "ipython",
    "version": 3
   },
   "file_extension": ".py",
   "mimetype": "text/x-python",
   "name": "python",
   "nbconvert_exporter": "python",
   "pygments_lexer": "ipython3",
   "version": "3.9.12"
  },
  "vscode": {
   "interpreter": {
    "hash": "9116e7605a3c7636cbb64cda962b2f0e89693208c0f8626394020c0fb858b688"
   }
  }
 },
 "nbformat": 4,
 "nbformat_minor": 4
}
