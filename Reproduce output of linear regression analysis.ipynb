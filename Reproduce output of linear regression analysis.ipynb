{
  "metadata": {
    "kernelspec": {
      "name": "python",
      "display_name": "Python (Pyodide)",
      "language": "python"
    },
    "language_info": {
      "codemirror_mode": {
        "name": "python",
        "version": 3
      },
      "file_extension": ".py",
      "mimetype": "text/x-python",
      "name": "python",
      "nbconvert_exporter": "python",
      "pygments_lexer": "ipython3",
      "version": "3.8"
    }
  },
  "nbformat_minor": 5,
  "nbformat": 4,
  "cells": [
    {
      "cell_type": "markdown",
      "source": "## Computational Homework 4\n\nIn this assignment, we will show that we have (essentially) all the tools to reproduce the output of a linear regression analysis from commonly used statistical software.\n\nFor this, we will use the `canadian_wages` dataset, which can be downloaded from [this link](https://drive.google.com/drive/folders/1OkXMcFo0urN0kSQYH4d75I4V3pnSpV6H?usp=sharing).",
      "metadata": {},
      "id": "27ec0ac2"
    },
    {
      "cell_type": "code",
      "source": "import pandas as pd\n\ndata = pd.read_csv(\"canadian_wages.csv\")\ndata.head()",
      "metadata": {
        "trusted": true
      },
      "execution_count": 1,
      "outputs": [
        {
          "execution_count": 1,
          "output_type": "execute_result",
          "data": {
            "text/plain": "   Unnamed: 0   age  hourly_wages  education_years\n0           0  40.0         10.56             15.0\n1           1  19.0         11.00             13.0\n2           2  46.0         17.76             14.0\n3           3  50.0         14.00             16.0\n4           4  31.0          8.20             15.0",
            "text/html": "<div>\n<style scoped>\n    .dataframe tbody tr th:only-of-type {\n        vertical-align: middle;\n    }\n\n    .dataframe tbody tr th {\n        vertical-align: top;\n    }\n\n    .dataframe thead th {\n        text-align: right;\n    }\n</style>\n<table border=\"1\" class=\"dataframe\">\n  <thead>\n    <tr style=\"text-align: right;\">\n      <th></th>\n      <th>Unnamed: 0</th>\n      <th>age</th>\n      <th>hourly_wages</th>\n      <th>education_years</th>\n    </tr>\n  </thead>\n  <tbody>\n    <tr>\n      <th>0</th>\n      <td>0</td>\n      <td>40.0</td>\n      <td>10.56</td>\n      <td>15.0</td>\n    </tr>\n    <tr>\n      <th>1</th>\n      <td>1</td>\n      <td>19.0</td>\n      <td>11.00</td>\n      <td>13.0</td>\n    </tr>\n    <tr>\n      <th>2</th>\n      <td>2</td>\n      <td>46.0</td>\n      <td>17.76</td>\n      <td>14.0</td>\n    </tr>\n    <tr>\n      <th>3</th>\n      <td>3</td>\n      <td>50.0</td>\n      <td>14.00</td>\n      <td>16.0</td>\n    </tr>\n    <tr>\n      <th>4</th>\n      <td>4</td>\n      <td>31.0</td>\n      <td>8.20</td>\n      <td>15.0</td>\n    </tr>\n  </tbody>\n</table>\n</div>"
          },
          "metadata": {}
        }
      ],
      "id": "0c9ec79d"
    },
    {
      "cell_type": "markdown",
      "source": "The goal of this dataset is to predict `hourly_wages` using `age` and `education_years`. We'll use the `statsmodels` package in Python as our point of comparison to run a least squares regression (though this will mostly match the outputs you'd get from e.g. the `lm` function in R). If you don't have `statsmodels` installed already, you can do so by uncommenting the following line.",
      "metadata": {},
      "id": "eb441471"
    },
    {
      "cell_type": "code",
      "source": "#!pip install statsmodels",
      "metadata": {
        "trusted": true
      },
      "execution_count": 2,
      "outputs": [],
      "id": "2b583425"
    },
    {
      "cell_type": "markdown",
      "source": "Before running a regression, we need to extract the data into numpy arrays, which we do in the following cell.",
      "metadata": {},
      "id": "b0231b8c"
    },
    {
      "cell_type": "code",
      "source": "import numpy as np\n\ny = data[\"hourly_wages\"].to_numpy()\nX = data[[\"age\", \"education_years\"]].to_numpy()\nones = np.ones(X.shape[0]).reshape(-1,1)\nX = np.hstack([ones, X])\nX.shape, y.shape",
      "metadata": {
        "trusted": true
      },
      "execution_count": 3,
      "outputs": [
        {
          "execution_count": 3,
          "output_type": "execute_result",
          "data": {
            "text/plain": "((3997, 3), (3997,))"
          },
          "metadata": {}
        }
      ],
      "id": "9d670d51"
    },
    {
      "cell_type": "markdown",
      "source": "Next, we can use `statsmodels` to run a linear regression analysis using the following.",
      "metadata": {},
      "id": "03f1115d"
    },
    {
      "cell_type": "code",
      "source": "import statsmodels.api as sm\n\nres = sm.OLS(y, X).fit()\nres.summary()",
      "metadata": {
        "trusted": true
      },
      "execution_count": 4,
      "outputs": [
        {
          "execution_count": 4,
          "output_type": "execute_result",
          "data": {
            "text/plain": "<class 'statsmodels.iolib.summary.Summary'>\n\"\"\"\n                            OLS Regression Results                            \n==============================================================================\nDep. Variable:                      y   R-squared:                       0.259\nModel:                            OLS   Adj. R-squared:                  0.258\nMethod:                 Least Squares   F-statistic:                     696.3\nDate:                Mon, 10 Oct 2022   Prob (F-statistic):          3.77e-260\nTime:                        09:22:56   Log-Likelihood:                -13313.\nNo. Observations:                3997   AIC:                         2.663e+04\nDf Residuals:                    3994   BIC:                         2.665e+04\nDf Model:                           2                                         \nCovariance Type:            nonrobust                                         \n==============================================================================\n                 coef    std err          t      P>|t|      [0.025      0.975]\n------------------------------------------------------------------------------\nconst         -6.2827      0.609    -10.314      0.000      -7.477      -5.088\nx1             0.2628      0.009     29.321      0.000       0.245       0.280\nx2             0.9170      0.035     25.881      0.000       0.848       0.986\n==============================================================================\nOmnibus:                      571.348   Durbin-Watson:                   1.961\nProb(Omnibus):                  0.000   Jarque-Bera (JB):             1114.699\nSkew:                           0.888   Prob(JB):                    8.83e-243\nKurtosis:                       4.882   Cond. No.                         233.\n==============================================================================\n\nNotes:\n[1] Standard Errors assume that the covariance matrix of the errors is correctly specified.\n\"\"\"",
            "text/html": "<table class=\"simpletable\">\n<caption>OLS Regression Results</caption>\n<tr>\n  <th>Dep. Variable:</th>            <td>y</td>        <th>  R-squared:         </th> <td>   0.259</td> \n</tr>\n<tr>\n  <th>Model:</th>                   <td>OLS</td>       <th>  Adj. R-squared:    </th> <td>   0.258</td> \n</tr>\n<tr>\n  <th>Method:</th>             <td>Least Squares</td>  <th>  F-statistic:       </th> <td>   696.3</td> \n</tr>\n<tr>\n  <th>Date:</th>             <td>Mon, 10 Oct 2022</td> <th>  Prob (F-statistic):</th> <td>3.77e-260</td>\n</tr>\n<tr>\n  <th>Time:</th>                 <td>09:22:56</td>     <th>  Log-Likelihood:    </th> <td> -13313.</td> \n</tr>\n<tr>\n  <th>No. Observations:</th>      <td>  3997</td>      <th>  AIC:               </th> <td>2.663e+04</td>\n</tr>\n<tr>\n  <th>Df Residuals:</th>          <td>  3994</td>      <th>  BIC:               </th> <td>2.665e+04</td>\n</tr>\n<tr>\n  <th>Df Model:</th>              <td>     2</td>      <th>                     </th>     <td> </td>    \n</tr>\n<tr>\n  <th>Covariance Type:</th>      <td>nonrobust</td>    <th>                     </th>     <td> </td>    \n</tr>\n</table>\n<table class=\"simpletable\">\n<tr>\n    <td></td>       <th>coef</th>     <th>std err</th>      <th>t</th>      <th>P>|t|</th>  <th>[0.025</th>    <th>0.975]</th>  \n</tr>\n<tr>\n  <th>const</th> <td>   -6.2827</td> <td>    0.609</td> <td>  -10.314</td> <td> 0.000</td> <td>   -7.477</td> <td>   -5.088</td>\n</tr>\n<tr>\n  <th>x1</th>    <td>    0.2628</td> <td>    0.009</td> <td>   29.321</td> <td> 0.000</td> <td>    0.245</td> <td>    0.280</td>\n</tr>\n<tr>\n  <th>x2</th>    <td>    0.9170</td> <td>    0.035</td> <td>   25.881</td> <td> 0.000</td> <td>    0.848</td> <td>    0.986</td>\n</tr>\n</table>\n<table class=\"simpletable\">\n<tr>\n  <th>Omnibus:</th>       <td>571.348</td> <th>  Durbin-Watson:     </th> <td>   1.961</td> \n</tr>\n<tr>\n  <th>Prob(Omnibus):</th> <td> 0.000</td>  <th>  Jarque-Bera (JB):  </th> <td>1114.699</td> \n</tr>\n<tr>\n  <th>Skew:</th>          <td> 0.888</td>  <th>  Prob(JB):          </th> <td>8.83e-243</td>\n</tr>\n<tr>\n  <th>Kurtosis:</th>      <td> 4.882</td>  <th>  Cond. No.          </th> <td>    233.</td> \n</tr>\n</table><br/><br/>Notes:<br/>[1] Standard Errors assume that the covariance matrix of the errors is correctly specified."
          },
          "metadata": {}
        }
      ],
      "id": "356ffea0"
    },
    {
      "cell_type": "markdown",
      "source": "As we see, this output returns a variety of things, though we will focus on the following components:\n\n1. The fitted coefficients, along with their standard errors and the associated $t$ statistics/p-values for each.\n2. The $R^2$ and adjusted $R^2$, which capture the fraction of variance in `hourly_wage` which is explained by the features `age` and `education_years`.\n3. The $F$ statistic for testing the null hypothesis $\\beta_1=\\beta_2 = 0$.\n\nIn this assignment, we will write our own code to reproduce these results. Note that you will very likely find code in the online book useful for this.",
      "metadata": {},
      "id": "d6521f5f"
    },
    {
      "cell_type": "markdown",
      "source": "### Problem 1.\n\nPerform the following steps.\n\n1. Fit the regression model \n\n$$\n\\text{hourly_wage}_i = \\beta_0 + \\beta_1 \\text{age}_i + \\beta_2 \\text{education_years}_i + \\varepsilon_i\n$$\n\nTo find the coefficients $\\hat{\\beta} = (\\hat{\\beta}_0,\\hat{\\beta}_1, \\hat{\\beta}_2) = (X^\\top X)^{-1}X^\\top y$. Verify that these match the estimates in the table above.\n\n2. Compute the estimated variance \n\n$$\n\\hat{\\sigma}^2 = \\frac{1}{n-3}\\|y - X\\hat{\\beta}\\|_2^2.\n$$\n\nUse this to compute the standard deviation of each of the three coefficients, given by $\\tau_j = \\sqrt{\\hat{\\sigma}^2(X^\\top X)^{-1}_{jj}}$. Verify that these match the estimates in the table above.\n\n3. For each of the coefficients, compute the $t$ statistic $\\hat{t}_j = \\hat{\\beta}_j/\\tau_j$. Compute the $p$-value of this statistic under the $t(n-3)$ distribution, and verify that this (and the statistic) match the estimates in the table above.",
      "metadata": {},
      "id": "87ad5039"
    },
    {
      "cell_type": "code",
      "source": "#1\n\nbhat = np.dot(np.dot(np.linalg.inv(np.dot(X.T, X)), X.T), y)\nprint('bhat: ', bhat)\n#Verified: these match the estimates in the table above\n\n\n#2\n\nvhat = 1/(X.shape[0]-3) * np.sum((y - np.dot(X, bhat))**2)\ntau = np.sqrt(vhat * np.linalg.inv(np.dot(X.T, X)))\nprint('tau: ', tau[0,0], tau[1,1], tau[2,2])\n#Verified: these match the estimates in the table above\n\n\n#3\n\nprint('t statistics: ', (bhat / tau)[0,0], (bhat / tau)[1,1], (bhat / tau)[2,2])\n\nfrom scipy.stats import t\nt_dist = t(df = (X.shape[0] - 3))\nprint('p-value: ', 2 * (1 - t_dist.cdf(abs((bhat / tau)[0,0]))), 2 * (1 - t_dist.cdf(abs((bhat / tau)[1,1]))), 2 * (1 - t_dist.cdf(abs((bhat / tau)[2,2]))))\n#Verified: these match the estimates in the table above",
      "metadata": {
        "trusted": true
      },
      "execution_count": 5,
      "outputs": [
        {
          "name": "stdout",
          "text": "bhat:  [-6.28268002  0.26279167  0.91697245]\ntau:  0.6091694769049752 0.008962647828520423 0.03543095701236729\nt statistics:  -10.313517429443625 29.320762427023418 25.88054431085585\np-value:  0.0 0.0 0.0\n",
          "output_type": "stream"
        }
      ],
      "id": "11d78247"
    },
    {
      "cell_type": "markdown",
      "source": "### Problem 2.\n\nFor the regression model fitted in Problem 1, compute the RSS, TSS and RegSS. Using these, compute\n\n$$\nR^2 = \\text{RegSS}/\\text{TSS}\n$$\n\nand\n\n$$\nR^2_{adj} = 1 - \\frac{(1-\\text{RegSS}/\\text{TSS})(n-1)}{n-3}.\n$$\n\nVerify that these match the values for $R^2$ and adjusted $R^2$ in the table from `statsmodels` above.",
      "metadata": {},
      "id": "b78f879a"
    },
    {
      "cell_type": "code",
      "source": "y_bar = np.mean(y)\ny_hat = np.dot(X, bhat)\nTSS = np.sum((y-y_bar)**2)\nRSS = np.sum((y-y_hat)**2)\nRegSS = TSS-RSS\nR2 = RegSS/TSS\nR2_adj = 1-(1-R2)*(X.shape[0]-1)/(X.shape[0]-X.shape[1])\nprint('R2: ', R2)\nprint('R2_adj: ', R2_adj)\n\n#Verified: these match the estimates in the table above",
      "metadata": {
        "trusted": true
      },
      "execution_count": 8,
      "outputs": [
        {
          "name": "stdout",
          "text": "R2:  0.2585300110315174\nR2_adj:  0.25815871909913457\n",
          "output_type": "stream"
        }
      ],
      "id": "2cd246f5"
    },
    {
      "cell_type": "markdown",
      "source": "### Problem 3.\n\nAgain using the regression model fit in Problem 1, compute the $F$-statistic\n\n$$\n\\hat{F} = \\frac{\\|\\hat{y}_i - \\bar{y}\\|_2^2 / 2}{\\|\\hat{y}_i - y_i\\|_2^2/(n-3)}\n$$\n\nand the associated $p$-value under the $F(2, n-3)$ distribution. Verify that these too match the results output from `statsmodels`.",
      "metadata": {},
      "id": "30d94240"
    },
    {
      "cell_type": "code",
      "source": "num = np.sum((y_hat-y_bar)**2)/2\nden = np.sum((y_hat-y)**2)/(X.shape[0]-3)\nprint('F-statistic: ', num/den)\n\nfrom scipy.stats import f\nprint('p value: ', round(1 - f.cdf(num/den, 2, X.shape[0] - 3), 4))\nprint('Prob (F-statistic): ', f.pdf(num/den, 2, X.shape[0] - 3))\n\n#Verified: these match the estimates in the table above",
      "metadata": {
        "trusted": true
      },
      "execution_count": 12,
      "outputs": [
        {
          "name": "stdout",
          "text": "F-statistic:  696.2984877488853\np value:  0.0\nProb (F-statistic):  2.798775781432101e-260\n",
          "output_type": "stream"
        }
      ],
      "id": "fcc8fa83"
    },
    {
      "cell_type": "code",
      "source": "",
      "metadata": {},
      "execution_count": null,
      "outputs": [],
      "id": "e683142c-e496-476b-82fe-79a680bfdc47"
    }
  ]
}