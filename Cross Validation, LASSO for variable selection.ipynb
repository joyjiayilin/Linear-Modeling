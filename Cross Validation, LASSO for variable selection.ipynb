{
 "cells": [
  {
   "cell_type": "markdown",
   "id": "27ec0ac2",
   "metadata": {},
   "source": [
    "## Computation 6"
   ]
  },
  {
   "cell_type": "markdown",
   "id": "6d9231d1",
   "metadata": {},
   "source": [
    "## Part 1: Cross Validation\n",
    "\n",
    "In this part, we will explore a technique called _cross-validation_ that can be used to estimate the regularization parameter $\\lambda$ in techniques like Ridge regression and LASSO. \n",
    "\n",
    "For this, we will need to download the file `EGFR_bioactivity.pkl` from [this link](https://drive.google.com/drive/folders/1OkXMcFo0urN0kSQYH4d75I4V3pnSpV6H?usp=sharing).\n",
    "\n",
    "Once downloaded (and saved in the same directory as this notebook), the file can be loaded using the following."
   ]
  },
  {
   "cell_type": "code",
   "execution_count": 8,
   "id": "28077331",
   "metadata": {},
   "outputs": [
    {
     "data": {
      "text/plain": [
       "((2000, 512), (2000,))"
      ]
     },
     "execution_count": 8,
     "metadata": {},
     "output_type": "execute_result"
    }
   ],
   "source": [
    "import pickle \n",
    "\n",
    "with open('EGFR_bioactivity.pkl', 'rb') as f:\n",
    "    data = pickle.load(f)\n",
    "    \n",
    "X = data[\"X\"]\n",
    "y = data[\"y\"]\n",
    "X.shape, y.shape"
   ]
  },
  {
   "cell_type": "markdown",
   "id": "d275bafa",
   "metadata": {},
   "source": [
    "The `EGFR_bioactivity` dataset contains bioactivity data for $n = 2000$ different drugs, each represented by a molecular \"fingerprints\", which here is a binary vector of length $p = 512$ indicating in each dimension whether the molecule contains a particular substructure or not. The response `y` is a measurement of how active each drug is against a particular protein (called EGFR) that it is targeting. The goal with this dataset is to build a model to predict this bioactivity from the features of the molecules.\n",
    "\n",
    "To do this, we will try fitting a Ridge regression model, as discussed in lab. As we've seen, fitting a Ridge regression model requires choosing a regularization parameter $\\lambda$, which we will do using a technique called cross-validation. The core idea with cross-validation is that we should pick the value of $\\lambda$ that achieves the smallest error rate on a held-out set of data not present in the data used to fit the model.\n",
    "\n",
    "Generically, ($k$-fold) cross-validation works as follows: \n",
    "\n",
    "- Fix an integer $0<k\\leq n$, and split the dataset into $k$ non-overlapping, equally sized groups $S_1,\\dots,S_k$.\n",
    "- Loop through each of the $k$ groups. At step $j$, fit the model on all of the data _except_ those datapoint in group $j$ to obtain parameters $\\hat{\\beta}_{(-j)}(\\lambda)$. Then, use this model to make predictions on the $j$th group of data: $\\hat{y}^{(-j)}_i = x_i\\cdot \\hat{\\beta}_{(-j)}(\\lambda)$ for $i \\in S_j$ (i.e. the points that weren't in the data used for fitting the model). Calculate the MSE of these predictions $\\text{MSE}_{j}(\\lambda) = \\sum_{i \\in S_j} (\\hat{y}_i^{(-j)} - y_i)^2$.\n",
    "- After fitting and evaluating models on all $k$ subsets, compute the mean error across each of the $k$ subsets: $\\text{MSE}(\\lambda) = \\frac{1}{k}\\sum_{j=1}^k \\text{MSE}_j(\\lambda)$. This is called the _cross-validation error_.\n",
    "\n",
    "To perform the splitting of the data, we can use the following function (most of the work here is being done by the function `np.array_split`)."
   ]
  },
  {
   "cell_type": "code",
   "execution_count": 9,
   "id": "238f4cf7",
   "metadata": {},
   "outputs": [],
   "source": [
    "import numpy as np\n",
    "\n",
    "def k_fold_split(n=1000, k=5):\n",
    "    ix = range(n)\n",
    "    test_ix = np.array_split(ix, k)\n",
    "    train_ix = [[j for j in ix if j not in tix] for tix in test_ix]\n",
    "    return train_ix, test_ix"
   ]
  },
  {
   "cell_type": "markdown",
   "id": "2012b683",
   "metadata": {},
   "source": [
    "Below is an example of how we could use this function."
   ]
  },
  {
   "cell_type": "code",
   "execution_count": 10,
   "id": "7ba65c6b",
   "metadata": {},
   "outputs": [
    {
     "name": "stdout",
     "output_type": "stream",
     "text": [
      "(1600,) (400,)\n",
      "(1600,) (400,)\n",
      "(1600,) (400,)\n",
      "(1600,) (400,)\n",
      "(1600,) (400,)\n"
     ]
    }
   ],
   "source": [
    "k = 5\n",
    "train_ix, test_ix = k_fold_split(n = X.shape[0], k=k)\n",
    "\n",
    "for tr_ix, te_ix in zip(train_ix, test_ix):\n",
    "    X_train_curr, X_test_curr = X[tr_ix], X[te_ix]\n",
    "    y_train_curr, y_test_curr = y[tr_ix], y[te_ix]\n",
    "    print(y_train_curr.shape, y_test_curr.shape)"
   ]
  },
  {
   "cell_type": "markdown",
   "id": "b94447e3",
   "metadata": {},
   "source": [
    "Here, we set $k=5$, and looped through each of the folds, generating a training and testing set at each step, which is what we need to be able to do the $k$-fold cross validation strategy above.\n",
    "\n",
    "**Problem 1.** Use $5$-fold cross validation to estimate the cross validation error for a Ridge regression model fit with a fixed regularization parameter $\\lambda = 5$. (See the [online book](https://rythei.github.io/linear-models/content/generalizing_linear_regression/ridge_and_lasso.html) for example of how to fit such a model.) "
   ]
  },
  {
   "cell_type": "code",
   "execution_count": 4,
   "id": "213f272e",
   "metadata": {},
   "outputs": [
    {
     "data": {
      "text/plain": [
       "580.7142148147243"
      ]
     },
     "execution_count": 4,
     "metadata": {},
     "output_type": "execute_result"
    }
   ],
   "source": [
    "def fit_RR(X, y, lamb):\n",
    "    return np.dot(np.linalg.inv(X.T@X + lamb*np.eye(X.shape[1])), np.dot(X.T, y))\n",
    "\n",
    "MSE = []\n",
    "for tr_ix, te_ix in zip(train_ix, test_ix):\n",
    "    X_train_curr, X_test_curr = X[tr_ix], X[te_ix]\n",
    "    y_train_curr, y_test_curr = y[tr_ix], y[te_ix]\n",
    "    beta = fit_RR(X[tr_ix], y[tr_ix], 5)\n",
    "    MSE.append(sum((np.dot(X[te_ix], beta) - y[te_ix]) ** 2))\n",
    "\n",
    "np.mean(MSE)"
   ]
  },
  {
   "cell_type": "markdown",
   "id": "6c6fb0b7",
   "metadata": {},
   "source": [
    "**Problem 2.** Now that we've developed a method to estimate the cross-validation error for a model with a fixed $\\lambda$, do the following: repeat the steps in problem 1 for a grid of $\\lambda$ values (for this problem a good range might be `np.exp(np.linspace(-3,7,10))`), and for each use 5-fold cross validation to estimate the cross-validation error. Plot these errors as a function of $\\lambda$, and report the value of $\\lambda$ that has the smallest error. (Note since we are using a log scale, the plot might look nicer if you use the option `plt.xscale(\"log\")`).\n"
   ]
  },
  {
   "cell_type": "code",
   "execution_count": 11,
   "id": "c82ba1ca",
   "metadata": {},
   "outputs": [
    {
     "data": {
      "image/png": "[encoded data removed]",
      "text/plain": [
       "<Figure size 432x288 with 1 Axes>"
      ]
     },
     "metadata": {
      "needs_background": "light"
     },
     "output_type": "display_data"
    },
    {
     "name": "stdout",
     "output_type": "stream",
     "text": [
      "lambda that has the smallest error:  39.12128399815323\n"
     ]
    }
   ],
   "source": [
    "lamb_range = np.exp(np.linspace(-3,7,10))\n",
    "\n",
    "MSE_means = []\n",
    "for lamb in lamb_range:\n",
    "    MSE = []\n",
    "    for tr_ix, te_ix in zip(train_ix, test_ix):\n",
    "        X_train_curr, X_test_curr = X[tr_ix], X[te_ix]\n",
    "        y_train_curr, y_test_curr = y[tr_ix], y[te_ix]\n",
    "        beta = fit_RR(X[tr_ix], y[tr_ix], lamb)\n",
    "        MSE.append((np.dot(X[te_ix], beta) - y[te_ix]) ** 2)\n",
    "    MSE_means.append(np.mean(MSE))\n",
    "\n",
    "import matplotlib.pyplot as plt\n",
    "\n",
    "plt.plot(lamb_range, MSE_means)\n",
    "plt.xlabel(\"Lambda\", fontsize=12)\n",
    "plt.ylabel(\"Error\", fontsize=12)\n",
    "plt.xscale(\"log\")\n",
    "plt.show()\n",
    "\n",
    "print(\"lambda that has the smallest error: \", lamb_range[MSE_means.index(min(MSE_means))])"
   ]
  },
  {
   "cell_type": "markdown",
   "id": "6483172a",
   "metadata": {},
   "source": [
    "## Part 2: LASSO for variable selection\n",
    "\n",
    "In this problem, we will investigate using LASSO regression to perform variable selection, i.e. to automatically select a subset of the most important features. To fit LASSO models, you can use the `sklearn` package in python (see the [online book](https://rythei.github.io/linear-models/content/generalizing_linear_regression/ridge_and_lasso.html) for examples of how to do this).\n",
    "\n",
    "For this problem, we'll work with the California housing dataset, in which the goal is to predict the median house value in given region of California using various features. Once downloaded, the data can be loaded and processed using the following."
   ]
  },
  {
   "cell_type": "code",
   "execution_count": 12,
   "id": "201ba30a",
   "metadata": {},
   "outputs": [],
   "source": [
    "import pandas as pd\n",
    "\n",
    "dataset = pd.read_csv(\"california_housing.csv\")\n",
    "y = dataset[\"MedHouseVal\"].to_numpy()\n",
    "feature_cols = [\"MedInc\", \"HouseAge\", \"AveRooms\", \"AveBedrms\", \"Population\", \"AveOccup\", \"Latitude\", \"Longitude\"]\n",
    "X = dataset[feature_cols].to_numpy()\n",
    "ones = np.ones(shape=(X.shape[0], 1))\n",
    "feature_cols = [\"Intercept\"] + feature_cols\n",
    "X = np.hstack([ones, X])"
   ]
  },
  {
   "cell_type": "markdown",
   "id": "e4f98c96",
   "metadata": {},
   "source": [
    "**Problem 3.** Using a range of $\\lambda$ values (say `np.exp(np.linspace(-4, 1, 5))`), compute the LASSO solution for this dataset, and for each value of $\\lambda$ report which coefficients are non-zero (and what features they are associated with). How many features are kept for the largest value of $\\lambda$? Which features are these? If you had to use this method, what would you say are the three most \"important\" features?"
   ]
  },
  {
   "cell_type": "code",
   "execution_count": 13,
   "id": "09b86c69",
   "metadata": {},
   "outputs": [
    {
     "name": "stdout",
     "output_type": "stream",
     "text": [
      "all coefficients for lambda = 0.01831563888873418: [ 0.00000000e+00  3.81300162e-01  1.06133605e-02 -0.00000000e+00\n",
      "  6.58836954e-02  3.13475477e-07 -3.55188426e-03 -3.90209748e-01\n",
      " -3.94052060e-01]\n",
      "non-zero coefficients for lambda = 0.01831563888873418: [0.38130016181903326, 0.010613360544011704, 0.06588369538904693, 3.134754771600664e-07, -0.0035518842599138426, -0.390209747690238, -0.39405205998944026]\n",
      "corresponding nonzero features for lambda = 0.01831563888873418:  ['MedInc', 'HouseAge', 'AveBedrms', 'Population', 'AveOccup', 'Latitude', 'Longitude']\n",
      "all coefficients for lambda = 0.06392786120670757: [ 0.00000000e+00  3.86341196e-01  1.30485332e-02  0.00000000e+00\n",
      "  0.00000000e+00  8.99632515e-06 -3.42683051e-03 -2.32773874e-01\n",
      " -2.26047353e-01]\n",
      "non-zero coefficients for lambda = 0.06392786120670757: [0.38130016181903326, 0.010613360544011704, 0.06588369538904693, 3.134754771600664e-07, -0.0035518842599138426, -0.390209747690238, -0.39405205998944026, 0.3863411958915197, 0.013048533177978256, 8.9963251459349e-06, -0.003426830512545966, -0.2327738741154361, -0.22604735311644608]\n",
      "corresponding nonzero features for lambda = 0.06392786120670757:  ['MedInc', 'HouseAge', 'AveBedrms', 'Population', 'AveOccup', 'Latitude', 'Longitude', 'MedInc', 'HouseAge', 'Population', 'AveOccup', 'Latitude', 'Longitude']\n",
      "all coefficients for lambda = 0.22313016014842982: [ 0.00000000e+00  3.68328581e-01  1.55603247e-02 -0.00000000e+00\n",
      "  0.00000000e+00  2.38981223e-05 -2.26272819e-03 -2.44701877e-03\n",
      " -0.00000000e+00]\n",
      "non-zero coefficients for lambda = 0.22313016014842982: [0.38130016181903326, 0.010613360544011704, 0.06588369538904693, 3.134754771600664e-07, -0.0035518842599138426, -0.390209747690238, -0.39405205998944026, 0.3863411958915197, 0.013048533177978256, 8.9963251459349e-06, -0.003426830512545966, -0.2327738741154361, -0.22604735311644608, 0.3683285812836266, 0.015560324659307088, 2.3898122292937306e-05, -0.0022627281901972914, -0.002447018772840703]\n",
      "corresponding nonzero features for lambda = 0.22313016014842982:  ['MedInc', 'HouseAge', 'AveBedrms', 'Population', 'AveOccup', 'Latitude', 'Longitude', 'MedInc', 'HouseAge', 'Population', 'AveOccup', 'Latitude', 'Longitude', 'MedInc', 'HouseAge', 'Population', 'AveOccup', 'Latitude']\n",
      "all coefficients for lambda = 0.7788007830714049: [ 0.00000000e+00  2.08883984e-01  8.53921882e-03  0.00000000e+00\n",
      " -0.00000000e+00  6.94728369e-07 -0.00000000e+00 -0.00000000e+00\n",
      " -0.00000000e+00]\n",
      "non-zero coefficients for lambda = 0.7788007830714049: [0.38130016181903326, 0.010613360544011704, 0.06588369538904693, 3.134754771600664e-07, -0.0035518842599138426, -0.390209747690238, -0.39405205998944026, 0.3863411958915197, 0.013048533177978256, 8.9963251459349e-06, -0.003426830512545966, -0.2327738741154361, -0.22604735311644608, 0.3683285812836266, 0.015560324659307088, 2.3898122292937306e-05, -0.0022627281901972914, -0.002447018772840703, 0.2088839842637112, 0.00853921881638907, 6.947283690225979e-07]\n",
      "corresponding nonzero features for lambda = 0.7788007830714049:  ['MedInc', 'HouseAge', 'AveBedrms', 'Population', 'AveOccup', 'Latitude', 'Longitude', 'MedInc', 'HouseAge', 'Population', 'AveOccup', 'Latitude', 'Longitude', 'MedInc', 'HouseAge', 'Population', 'AveOccup', 'Latitude', 'MedInc', 'HouseAge', 'Population']\n",
      "all coefficients for lambda = 2.718281828459045: [ 0.00000000e+00  0.00000000e+00  0.00000000e+00  0.00000000e+00\n",
      " -0.00000000e+00 -2.29978582e-05 -0.00000000e+00 -0.00000000e+00\n",
      " -0.00000000e+00]\n",
      "non-zero coefficients for lambda = 2.718281828459045: [0.38130016181903326, 0.010613360544011704, 0.06588369538904693, 3.134754771600664e-07, -0.0035518842599138426, -0.390209747690238, -0.39405205998944026, 0.3863411958915197, 0.013048533177978256, 8.9963251459349e-06, -0.003426830512545966, -0.2327738741154361, -0.22604735311644608, 0.3683285812836266, 0.015560324659307088, 2.3898122292937306e-05, -0.0022627281901972914, -0.002447018772840703, 0.2088839842637112, 0.00853921881638907, 6.947283690225979e-07, -2.299785822923587e-05]\n",
      "corresponding nonzero features for lambda = 2.718281828459045:  ['MedInc', 'HouseAge', 'AveBedrms', 'Population', 'AveOccup', 'Latitude', 'Longitude', 'MedInc', 'HouseAge', 'Population', 'AveOccup', 'Latitude', 'Longitude', 'MedInc', 'HouseAge', 'Population', 'AveOccup', 'Latitude', 'MedInc', 'HouseAge', 'Population', 'Population']\n",
      "1  feature(s) kept for the largest value of  𝜆\n",
      "feature(s) for the largest value of  𝜆:  ['Population']\n",
      "three most important features:  Population , MedInc , HouseAge\n"
     ]
    }
   ],
   "source": [
    "from sklearn.linear_model import Lasso\n",
    "lamb_range = np.exp(np.linspace(-4, 1, 5))\n",
    "\n",
    "lasso_solutions = []\n",
    "kept_features = []\n",
    "nonzero_coef = []\n",
    "for lamb in lamb_range:\n",
    "    beta_hat_lasso_curr = Lasso(lamb).fit(X, y).coef_\n",
    "    lasso_solutions.append(beta_hat_lasso_curr)\n",
    "    print(f\"all coefficients for lambda = {lamb}:\", beta_hat_lasso_curr)\n",
    "    for i in range(len(beta_hat_lasso_curr)):\n",
    "        if beta_hat_lasso_curr[i] != 0:\n",
    "            nonzero_coef.append(beta_hat_lasso_curr[i])\n",
    "            kept_features.append(feature_cols[i])\n",
    "    print(f\"non-zero coefficients for lambda = {lamb}:\", nonzero_coef)\n",
    "    print(f\"corresponding nonzero features for lambda = {lamb}: \", kept_features)\n",
    "\n",
    "kept_features_largest_lambda = []\n",
    "beta_hat_lasso_curr_largest_lambda = Lasso(max(lamb_range)).fit(X, y).coef_\n",
    "for i in range(len(beta_hat_lasso_curr_largest_lambda)):\n",
    "    if beta_hat_lasso_curr_largest_lambda[i] != 0:\n",
    "        kept_features_largest_lambda.append(feature_cols[i])\n",
    "\n",
    "print(len(kept_features_largest_lambda), \" feature(s) kept for the largest value of  𝜆\")\n",
    "print(\"feature(s) for the largest value of  𝜆: \", kept_features_largest_lambda)\n",
    "\n",
    "from collections import Counter\n",
    "\n",
    "kept_features_array = Counter(kept_features)\n",
    "print(\"three most important features: \", kept_features_array.most_common(3)[0][0], \",\", kept_features_array.most_common(3)[1][0], \",\", kept_features_array.most_common(3)[2][0])\n"
   ]
  },
  {
   "cell_type": "markdown",
   "id": "afa5df8d",
   "metadata": {},
   "source": [
    "**Problem 4.** Similar to problem 2, use 5-fold cross-validation to select the best value of $\\lambda$ for the LASSO model, and plot the cross-validation errors as a function of $\\lambda$. What value of $\\lambda$ do you pick? Which features are selected (i.e. have non-zero coefficients) at this value of $\\lambda$?"
   ]
  },
  {
   "cell_type": "code",
   "execution_count": 14,
   "id": "e9dff453",
   "metadata": {},
   "outputs": [
    {
     "name": "stdout",
     "output_type": "stream",
     "text": [
      "lambda that has the smallest error (best lambda):  0.22313016014842982\n"
     ]
    },
    {
     "data": {
      "image/png": "[encoded data removed]",
      "text/plain": [
       "<Figure size 432x288 with 1 Axes>"
      ]
     },
     "metadata": {
      "needs_background": "light"
     },
     "output_type": "display_data"
    },
    {
     "name": "stdout",
     "output_type": "stream",
     "text": [
      "features selected:  ['MedInc', 'HouseAge', 'Population', 'AveOccup', 'Latitude']\n"
     ]
    }
   ],
   "source": [
    "from sklearn.linear_model import Lasso\n",
    "lamb_range = np.exp(np.linspace(-4, 1, 5))\n",
    "\n",
    "k = 5\n",
    "train_ix, test_ix = k_fold_split(n = X.shape[0], k=k)\n",
    "    \n",
    "MSE_means = []\n",
    "for lamb in lamb_range:\n",
    "    MSE = []\n",
    "    for tr_ix, te_ix in zip(train_ix, test_ix):\n",
    "        X_train_curr, X_test_curr = X[tr_ix], X[te_ix]\n",
    "        y_train_curr, y_test_curr = y[tr_ix], y[te_ix]\n",
    "        beta_hat_lasso_curr = Lasso(lamb).fit(X[tr_ix], y[tr_ix]).coef_\n",
    "        MSE.append((np.dot(X[te_ix], beta_hat_lasso_curr) - y[te_ix]) ** 2)\n",
    "    MSE_means.append(np.mean(MSE))\n",
    "\n",
    "print(\"lambda that has the smallest error (best lambda): \", lamb_range[MSE_means.index(min(MSE_means))])\n",
    "\n",
    "import matplotlib.pyplot as plt\n",
    "\n",
    "plt.plot(lamb_range, MSE_means)\n",
    "plt.xlabel(\"Lambda\", fontsize=12)\n",
    "plt.ylabel(\"Error\", fontsize=12)\n",
    "plt.xscale(\"log\")\n",
    "plt.show()\n",
    "\n",
    "selected_features = []\n",
    "beta_hat_lasso_curr_largest_lambda = Lasso(lamb_range[MSE_means.index(min(MSE_means))]).fit(X, y).coef_\n",
    "for i in range(len(beta_hat_lasso_curr_largest_lambda)):\n",
    "    if beta_hat_lasso_curr_largest_lambda[i] != 0:\n",
    "        selected_features.append(feature_cols[i])\n",
    "\n",
    "print(\"features selected: \", selected_features)"
   ]
  },
  {
   "cell_type": "code",
   "execution_count": null,
   "id": "feaec9af",
   "metadata": {},
   "outputs": [],
   "source": []
  }
 ],
 "metadata": {
  "kernelspec": {
   "display_name": "Python 3 (ipykernel)",
   "language": "python",
   "name": "python3"
  },
  "language_info": {
   "codemirror_mode": {
    "name": "ipython",
    "version": 3
   },
   "file_extension": ".py",
   "mimetype": "text/x-python",
   "name": "python",
   "nbconvert_exporter": "python",
   "pygments_lexer": "ipython3",
   "version": "3.9.12"
  }
 },
 "nbformat": 4,
 "nbformat_minor": 5
}
